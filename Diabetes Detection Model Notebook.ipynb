{
 "cells": [
  {
   "cell_type": "code",
   "execution_count": 4,
   "id": "8b7aafac-6506-43de-a967-c4be6e02efc0",
   "metadata": {},
   "outputs": [],
   "source": [
    "import pandas as pd"
   ]
  },
  {
   "cell_type": "code",
   "execution_count": 5,
   "id": "b4d92243-e5aa-45c4-b52e-ef3c9c15131f",
   "metadata": {},
   "outputs": [],
   "source": [
    "df=pd.read_csv(\"diabetes_prediction_dataset.csv\",usecols=[\"gender\",\"age\",\"hypertension\",\"heart_disease\",\"smoking_history\",\"blood_glucose_level\",\"diabetes\"])"
   ]
  },
  {
   "cell_type": "code",
   "execution_count": 20,
   "id": "b21a2739-69e5-4dde-8a92-239f4e48f1ff",
   "metadata": {},
   "outputs": [],
   "source": [
    "X=df.drop(\"diabetes\",axis=1)\n",
    "y=df[\"diabetes\"]"
   ]
  },
  {
   "cell_type": "code",
   "execution_count": 21,
   "id": "e05ce671-7c63-4ea7-80ca-794d3a5e94be",
   "metadata": {},
   "outputs": [
    {
     "data": {
      "text/html": [
       "<div>\n",
       "<style scoped>\n",
       "    .dataframe tbody tr th:only-of-type {\n",
       "        vertical-align: middle;\n",
       "    }\n",
       "\n",
       "    .dataframe tbody tr th {\n",
       "        vertical-align: top;\n",
       "    }\n",
       "\n",
       "    .dataframe thead th {\n",
       "        text-align: right;\n",
       "    }\n",
       "</style>\n",
       "<table border=\"1\" class=\"dataframe\">\n",
       "  <thead>\n",
       "    <tr style=\"text-align: right;\">\n",
       "      <th></th>\n",
       "      <th>gender</th>\n",
       "      <th>age</th>\n",
       "      <th>hypertension</th>\n",
       "      <th>heart_disease</th>\n",
       "      <th>smoking_history</th>\n",
       "      <th>blood_glucose_level</th>\n",
       "      <th>diabetes</th>\n",
       "    </tr>\n",
       "  </thead>\n",
       "  <tbody>\n",
       "    <tr>\n",
       "      <th>0</th>\n",
       "      <td>0</td>\n",
       "      <td>80</td>\n",
       "      <td>0</td>\n",
       "      <td>1</td>\n",
       "      <td>4</td>\n",
       "      <td>0.047704</td>\n",
       "      <td>0</td>\n",
       "    </tr>\n",
       "    <tr>\n",
       "      <th>1</th>\n",
       "      <td>0</td>\n",
       "      <td>54</td>\n",
       "      <td>0</td>\n",
       "      <td>0</td>\n",
       "      <td>0</td>\n",
       "      <td>-1.426210</td>\n",
       "      <td>0</td>\n",
       "    </tr>\n",
       "    <tr>\n",
       "      <th>2</th>\n",
       "      <td>1</td>\n",
       "      <td>28</td>\n",
       "      <td>0</td>\n",
       "      <td>0</td>\n",
       "      <td>4</td>\n",
       "      <td>0.489878</td>\n",
       "      <td>0</td>\n",
       "    </tr>\n",
       "    <tr>\n",
       "      <th>3</th>\n",
       "      <td>0</td>\n",
       "      <td>36</td>\n",
       "      <td>0</td>\n",
       "      <td>0</td>\n",
       "      <td>1</td>\n",
       "      <td>0.416183</td>\n",
       "      <td>0</td>\n",
       "    </tr>\n",
       "    <tr>\n",
       "      <th>4</th>\n",
       "      <td>1</td>\n",
       "      <td>76</td>\n",
       "      <td>1</td>\n",
       "      <td>1</td>\n",
       "      <td>1</td>\n",
       "      <td>0.416183</td>\n",
       "      <td>0</td>\n",
       "    </tr>\n",
       "    <tr>\n",
       "      <th>...</th>\n",
       "      <td>...</td>\n",
       "      <td>...</td>\n",
       "      <td>...</td>\n",
       "      <td>...</td>\n",
       "      <td>...</td>\n",
       "      <td>...</td>\n",
       "      <td>...</td>\n",
       "    </tr>\n",
       "    <tr>\n",
       "      <th>99995</th>\n",
       "      <td>0</td>\n",
       "      <td>80</td>\n",
       "      <td>0</td>\n",
       "      <td>0</td>\n",
       "      <td>0</td>\n",
       "      <td>-1.180558</td>\n",
       "      <td>0</td>\n",
       "    </tr>\n",
       "    <tr>\n",
       "      <th>99996</th>\n",
       "      <td>0</td>\n",
       "      <td>2</td>\n",
       "      <td>0</td>\n",
       "      <td>0</td>\n",
       "      <td>0</td>\n",
       "      <td>-0.934905</td>\n",
       "      <td>0</td>\n",
       "    </tr>\n",
       "    <tr>\n",
       "      <th>99997</th>\n",
       "      <td>1</td>\n",
       "      <td>66</td>\n",
       "      <td>0</td>\n",
       "      <td>0</td>\n",
       "      <td>3</td>\n",
       "      <td>0.416183</td>\n",
       "      <td>0</td>\n",
       "    </tr>\n",
       "    <tr>\n",
       "      <th>99998</th>\n",
       "      <td>0</td>\n",
       "      <td>24</td>\n",
       "      <td>0</td>\n",
       "      <td>0</td>\n",
       "      <td>4</td>\n",
       "      <td>-0.934905</td>\n",
       "      <td>0</td>\n",
       "    </tr>\n",
       "    <tr>\n",
       "      <th>99999</th>\n",
       "      <td>0</td>\n",
       "      <td>57</td>\n",
       "      <td>0</td>\n",
       "      <td>0</td>\n",
       "      <td>1</td>\n",
       "      <td>-1.180558</td>\n",
       "      <td>0</td>\n",
       "    </tr>\n",
       "  </tbody>\n",
       "</table>\n",
       "<p>100000 rows × 7 columns</p>\n",
       "</div>"
      ],
      "text/plain": [
       "       gender  age  hypertension  heart_disease  smoking_history  \\\n",
       "0           0   80             0              1                4   \n",
       "1           0   54             0              0                0   \n",
       "2           1   28             0              0                4   \n",
       "3           0   36             0              0                1   \n",
       "4           1   76             1              1                1   \n",
       "...       ...  ...           ...            ...              ...   \n",
       "99995       0   80             0              0                0   \n",
       "99996       0    2             0              0                0   \n",
       "99997       1   66             0              0                3   \n",
       "99998       0   24             0              0                4   \n",
       "99999       0   57             0              0                1   \n",
       "\n",
       "       blood_glucose_level  diabetes  \n",
       "0                 0.047704         0  \n",
       "1                -1.426210         0  \n",
       "2                 0.489878         0  \n",
       "3                 0.416183         0  \n",
       "4                 0.416183         0  \n",
       "...                    ...       ...  \n",
       "99995            -1.180558         0  \n",
       "99996            -0.934905         0  \n",
       "99997             0.416183         0  \n",
       "99998            -0.934905         0  \n",
       "99999            -1.180558         0  \n",
       "\n",
       "[100000 rows x 7 columns]"
      ]
     },
     "execution_count": 21,
     "metadata": {},
     "output_type": "execute_result"
    }
   ],
   "source": [
    "df"
   ]
  },
  {
   "cell_type": "code",
   "execution_count": 22,
   "id": "f2d8112b-a487-40c0-aba3-5a4cedd2f2cf",
   "metadata": {},
   "outputs": [],
   "source": [
    "from sklearn.preprocessing import LabelEncoder\n",
    "le=LabelEncoder()\n",
    "df[\"gender\"]=le.fit_transform(df[\"gender\"])\n",
    "df[\"smoking_history\"]=le.fit_transform(df[\"smoking_history\"])\n"
   ]
  },
  {
   "cell_type": "code",
   "execution_count": 23,
   "id": "20678988-f210-4f54-9229-903ec0994f35",
   "metadata": {},
   "outputs": [],
   "source": [
    "from sklearn.preprocessing import StandardScaler\n",
    "ss=StandardScaler()\n",
    "df[[\"blood_glucose_level\"]]=ss.fit_transform(df[[\"blood_glucose_level\"]])"
   ]
  },
  {
   "cell_type": "code",
   "execution_count": 24,
   "id": "17f9308a-2d71-48dc-bd87-ff1f418292ff",
   "metadata": {},
   "outputs": [],
   "source": [
    "df[\"age\"]=df[\"age\"].astype(int)"
   ]
  },
  {
   "cell_type": "code",
   "execution_count": 25,
   "id": "99db4eb7-dbdb-4d59-9334-d34045e26f70",
   "metadata": {},
   "outputs": [
    {
     "data": {
      "text/plain": [
       "<Axes: xlabel='gender'>"
      ]
     },
     "execution_count": 25,
     "metadata": {},
     "output_type": "execute_result"
    },
    {
     "data": {
      "image/png": "[encoded data removed]",
      "text/plain": [
       "<Figure size 640x480 with 1 Axes>"
      ]
     },
     "metadata": {},
     "output_type": "display_data"
    }
   ],
   "source": [
    "df[\"gender\"].value_counts().plot(kind=\"bar\")"
   ]
  },
  {
   "cell_type": "code",
   "execution_count": 26,
   "id": "c1c57ace-c4a3-4128-96e0-da14ac5465af",
   "metadata": {},
   "outputs": [],
   "source": [
    "from imblearn.over_sampling import RandomOverSampler\n",
    "rs=RandomOverSampler()\n",
    "X_resample,y_resample=rs.fit_resample(X,y)"
   ]
  },
  {
   "cell_type": "code",
   "execution_count": 27,
   "id": "bc50c226-98c1-4784-8944-c4bd4c623a3f",
   "metadata": {},
   "outputs": [
    {
     "data": {
      "text/plain": [
       "<Axes: xlabel='diabetes'>"
      ]
     },
     "execution_count": 27,
     "metadata": {},
     "output_type": "execute_result"
    },
    {
     "data": {
      "image/png": "[encoded data removed]",
      "text/plain": [
       "<Figure size 640x480 with 1 Axes>"
      ]
     },
     "metadata": {},
     "output_type": "display_data"
    }
   ],
   "source": [
    "y_resample.value_counts().plot(kind=\"bar\")"
   ]
  },
  {
   "cell_type": "code",
   "execution_count": 28,
   "id": "41330dea-f657-4c30-9ac5-4991291c3c94",
   "metadata": {},
   "outputs": [],
   "source": [
    "from sklearn.model_selection import train_test_split\n",
    "X_train,X_test,y_train,y_test=train_test_split(X_resample,y_resample,test_size=0.2,random_state=42)"
   ]
  },
  {
   "cell_type": "code",
   "execution_count": 29,
   "id": "b788afbb-9207-4a50-bfb9-1fc13363fc08",
   "metadata": {},
   "outputs": [
    {
     "data": {
      "text/plain": [
       "<Axes: xlabel='diabetes'>"
      ]
     },
     "execution_count": 29,
     "metadata": {},
     "output_type": "execute_result"
    },
    {
     "data": {
      "image/png": "[encoded data removed]",
      "text/plain": [
       "<Figure size 640x480 with 1 Axes>"
      ]
     },
     "metadata": {},
     "output_type": "display_data"
    }
   ],
   "source": [
    "y_test.value_counts().plot(kind=\"bar\")\n"
   ]
  },
  {
   "cell_type": "code",
   "execution_count": 30,
   "id": "335a7ba0-71b6-433b-88c9-6f41a017785a",
   "metadata": {},
   "outputs": [],
   "source": [
    "from sklearn.ensemble import RandomForestClassifier\n",
    "rf=RandomForestClassifier()\n",
    "rf.fit(X_train,y_train)\n",
    "y_predict=rf.predict(X_test)"
   ]
  },
  {
   "cell_type": "code",
   "execution_count": 31,
   "id": "2cba0153-18da-4105-813a-86ebd0f43cd1",
   "metadata": {},
   "outputs": [
    {
     "data": {
      "text/plain": [
       "array([1, 0, 0, ..., 1, 1, 1])"
      ]
     },
     "execution_count": 31,
     "metadata": {},
     "output_type": "execute_result"
    }
   ],
   "source": [
    "y_predict"
   ]
  },
  {
   "cell_type": "code",
   "execution_count": 32,
   "id": "43a14283-5d41-4388-831f-1081ccc8184a",
   "metadata": {},
   "outputs": [
    {
     "name": "stdout",
     "output_type": "stream",
     "text": [
      "Model Accuracy score: 0.8906284153005465\n",
      "Model Confusion mertix: [[15514  2779]\n",
      " [ 1224 17083]]\n",
      "Model classification_report:               precision    recall  f1-score   support\n",
      "\n",
      "           0       0.93      0.85      0.89     18293\n",
      "           1       0.86      0.93      0.90     18307\n",
      "\n",
      "    accuracy                           0.89     36600\n",
      "   macro avg       0.89      0.89      0.89     36600\n",
      "weighted avg       0.89      0.89      0.89     36600\n",
      "\n"
     ]
    }
   ],
   "source": [
    "from sklearn.metrics import accuracy_score,confusion_matrix,classification_report\n",
    "print(f'Model Accuracy score: {accuracy_score(y_test,y_predict)}')\n",
    "print(f'Model Confusion mertix: {confusion_matrix(y_test,y_predict)}')\n",
    "print(f'Model classification_report: {classification_report(y_test,y_predict)}')\n"
   ]
  },
  {
   "cell_type": "code",
   "execution_count": 33,
   "id": "7fb3ba58-e704-4cfc-9982-89bc87fd8ade",
   "metadata": {},
   "outputs": [
    {
     "name": "stdout",
     "output_type": "stream",
     "text": [
      "Logistic Regression: 0.7960\n",
      "SVC (RBF): 0.7967\n",
      "Random Forest: 0.8874\n",
      "Gradient Boosting: 0.8367\n",
      "KNN: 0.8643\n",
      "Naive Bayes: 0.7642\n"
     ]
    }
   ],
   "source": [
    "from sklearn.preprocessing import StandardScaler\n",
    "from sklearn.pipeline import make_pipeline\n",
    "from sklearn.linear_model import LogisticRegression\n",
    "from sklearn.svm import LinearSVC\n",
    "from sklearn.ensemble import RandomForestClassifier, GradientBoostingClassifier\n",
    "from sklearn.neighbors import KNeighborsClassifier\n",
    "from sklearn.naive_bayes import GaussianNB\n",
    "from sklearn.model_selection import cross_val_score\n",
    "\n",
    "models = {\n",
    "    \"Logistic Regression\": make_pipeline(StandardScaler(), LogisticRegression(max_iter=1000)),\n",
    "    \"SVC (RBF)\": make_pipeline(StandardScaler(), LinearSVC(max_iter=5000, random_state=42)),\n",
    "    \"Random Forest\": RandomForestClassifier(),\n",
    "    \"Gradient Boosting\": GradientBoostingClassifier(),\n",
    "    \"KNN\": make_pipeline(StandardScaler(), KNeighborsClassifier()),\n",
    "    \"Naive Bayes\": GaussianNB()\n",
    "}\n",
    "\n",
    "for name, model in models.items():\n",
    "    scores = cross_val_score(model, X_train, y_train, cv=5)\n",
    "    print(f\"{name}: {scores.mean():.4f}\")\n"
   ]
  },
  {
   "cell_type": "code",
   "execution_count": 34,
   "id": "d0631b5e-0d99-4160-836c-aae7b53a6823",
   "metadata": {},
   "outputs": [
    {
     "name": "stdout",
     "output_type": "stream",
     "text": [
      "Voting Classifier Accuracy: 0.8786338797814207\n",
      "              precision    recall  f1-score   support\n",
      "\n",
      "           0       0.89      0.86      0.88     18293\n",
      "           1       0.86      0.90      0.88     18307\n",
      "\n",
      "    accuracy                           0.88     36600\n",
      "   macro avg       0.88      0.88      0.88     36600\n",
      "weighted avg       0.88      0.88      0.88     36600\n",
      "\n"
     ]
    }
   ],
   "source": [
    "from sklearn.preprocessing import StandardScaler\n",
    "from sklearn.pipeline import make_pipeline\n",
    "from sklearn.linear_model import LogisticRegression\n",
    "from sklearn.svm import LinearSVC\n",
    "from sklearn.ensemble import RandomForestClassifier, GradientBoostingClassifier\n",
    "from sklearn.neighbors import KNeighborsClassifier\n",
    "from sklearn.naive_bayes import GaussianNB\n",
    "from sklearn.model_selection import cross_val_score\n",
    "\n",
    "voting_clf = VotingClassifier(\n",
    "    estimators=[\n",
    "        (\"Random Forest\", RandomForestClassifier(random_state=42)),\n",
    "        (\"KNN\", make_pipeline(StandardScaler(), KNeighborsClassifier())),\n",
    "        (\"Gradient Boosting\", GradientBoostingClassifier(random_state=42)),\n",
    "        (\"Logistic Regression\", make_pipeline(StandardScaler(), LogisticRegression(max_iter=1000, random_state=42))),\n",
    "        (\"Naive Bayes\", GaussianNB())\n",
    "    ],\n",
    "    voting=\"soft\",  # use probabilities\n",
    "    weights=[3, 2, 2, 1, 1]  # RF > KNN/GB > others\n",
    ")\n",
    "\n",
    "# Train ensemble\n",
    "voting_clf.fit(X_train, y_train)\n",
    "\n",
    "y_pred = voting_clf.predict(X_test)\n",
    "\n",
    "print(\"Voting Classifier Accuracy:\", accuracy_score(y_test, y_pred))\n",
    "print(classification_report(y_test, y_pred))"
   ]
  },
  {
   "cell_type": "code",
   "execution_count": 35,
   "id": "31210a59-484c-4ee8-ad0f-cdfa6e1b2134",
   "metadata": {},
   "outputs": [],
   "source": [
    "def prediction(gender,age, hypertension, heart_disease, smoking_history,blood_glucose_level):\n",
    "    data = {\n",
    "    'gender': [gender],\n",
    "    'age': [age],\n",
    "    'hypertension': [hypertension],\n",
    "    'heart_disease': [heart_disease],\n",
    "    'smoking_history': [smoking_history],\n",
    "    'blood_glucose_level': [blood_glucose_level]\n",
    "    }\n",
    "    # Create a DataFrame from the dictionary\n",
    "    df = pd.DataFrame(data)\n",
    "\n",
    "\n",
    "    # Encode the categorical columns\n",
    "    categorical_columns = ['gender', 'age', 'hypertension', 'heart_disease', 'smoking_history', 'blood_glucose_level']\n",
    "    for column in categorical_columns:\n",
    "        df[column] = le.fit_transform(df[column])\n",
    "    # df = ss.fit_transform(df)\n",
    "\n",
    "    result = rf.predict(df).reshape(1,-1)\n",
    "    return result[0]"
   ]
  },
  {
   "cell_type": "code",
   "execution_count": 36,
   "id": "907063dc-b0c8-4ba4-a4b2-d517739a447a",
   "metadata": {},
   "outputs": [],
   "source": [
    "result=prediction(1,44,1,0,1,200)"
   ]
  },
  {
   "cell_type": "code",
   "execution_count": 37,
   "id": "6f59d3fb-a15c-4cb6-90d1-a6c3f08c0c61",
   "metadata": {},
   "outputs": [
    {
     "name": "stdout",
     "output_type": "stream",
     "text": [
      "No\n"
     ]
    }
   ],
   "source": [
    "if result==0:\n",
    "    print(\"No\")\n",
    "else:\n",
    "    print(\"Yes\")"
   ]
  },
  {
   "cell_type": "code",
   "execution_count": 39,
   "id": "6d728ed7-9ecf-49d4-bdb0-c897616de150",
   "metadata": {},
   "outputs": [],
   "source": [
    "import pickle \n",
    "pickle.dump(voting_clf,open(\"DMD\",\"wb\"))"
   ]
  },
  {
   "cell_type": "code",
   "execution_count": null,
   "id": "6f9db6cb-8731-488e-8865-56c04b8c20dd",
   "metadata": {},
   "outputs": [],
   "source": []
  }
 ],
 "metadata": {
  "kernelspec": {
   "display_name": "Python 3 (ipykernel)",
   "language": "python",
   "name": "python3"
  },
  "language_info": {
   "codemirror_mode": {
    "name": "ipython",
    "version": 3
   },
   "file_extension": ".py",
   "mimetype": "text/x-python",
   "name": "python",
   "nbconvert_exporter": "python",
   "pygments_lexer": "ipython3",
   "version": "3.11.1"
  }
 },
 "nbformat": 4,
 "nbformat_minor": 5
}
